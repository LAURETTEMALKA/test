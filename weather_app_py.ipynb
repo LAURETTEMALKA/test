{
  "nbformat": 4,
  "nbformat_minor": 0,
  "metadata": {
    "colab": {
      "provenance": [],
      "authorship_tag": "ABX9TyP/Spok9S5HN9r+pTTfBKBF",
      "include_colab_link": true
    },
    "kernelspec": {
      "name": "python3",
      "display_name": "Python 3"
    },
    "language_info": {
      "name": "python"
    }
  },
  "cells": [
    {
      "cell_type": "markdown",
      "metadata": {
        "id": "view-in-github",
        "colab_type": "text"
      },
      "source": [
        "<a href=\"https://colab.research.google.com/github/LAURETTEMALKA/test/blob/main/weather_app_py.ipynb\" target=\"_parent\"><img src=\"https://colab.research.google.com/assets/colab-badge.svg\" alt=\"Open In Colab\"/></a>"
      ]
    },
    {
      "cell_type": "code",
      "execution_count": 3,
      "metadata": {
        "colab": {
          "base_uri": "https://localhost:8080/"
        },
        "id": "lpg9mLInPJvE",
        "outputId": "0cabc6b5-3c91-4ac0-d9a4-260e216bde7d"
      },
      "outputs": [
        {
          "output_type": "stream",
          "name": "stdout",
          "text": [
            "Enter city name: JERUSALEM\n",
            "Temperature: 293.87 K\n",
            "Description: clear sky\n"
          ]
        }
      ],
      "source": [
        "import requests\n",
        "\n",
        "api_key = 'e1313973fe262c3c18b4500d98fe65eb'\n",
        "\n",
        "city = input('Enter city name: ')\n",
        "\n",
        "url = f'http://api.openweathermap.org/data/2.5/weather?q={city}&appid={api_key}'\n",
        "\n",
        "response = requests.get(url)\n",
        "\n",
        "if response.status_code == 200:\n",
        "    data = response.json()\n",
        "    temp = data['main']['temp']\n",
        "    desc = data['weather'][0]['description']\n",
        "    print(f'Temperature: {temp} K')\n",
        "    print(f'Description: {desc}')\n",
        "else:\n",
        "    print('Error fetching weather data')"
      ]
    }
  ]
}